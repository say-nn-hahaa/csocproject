{
 "cells": [
  {
   "cell_type": "code",
   "execution_count": 561,
   "id": "c2154924",
   "metadata": {},
   "outputs": [],
   "source": [
    "import numpy as np\n",
    "import pandas as pd"
   ]
  },
  {
   "cell_type": "code",
   "execution_count": 562,
   "id": "05424761",
   "metadata": {},
   "outputs": [
    {
     "name": "stdout",
     "output_type": "stream",
     "text": [
      "      Month  WeekOfMonth  DayOfWeek     Make AccidentArea DayOfWeekClaimed  \\\n",
      "0       Dec            5  Wednesday    Honda        Urban          Tuesday   \n",
      "1       Jan            3  Wednesday    Honda        Urban           Monday   \n",
      "2       Oct            5     Friday    Honda        Urban         Thursday   \n",
      "3       Jun            2   Saturday   Toyota        Rural           Friday   \n",
      "4       Jan            5     Monday    Honda        Urban          Tuesday   \n",
      "...     ...          ...        ...      ...          ...              ...   \n",
      "15415   Nov            4     Friday   Toyota        Urban          Tuesday   \n",
      "15416   Nov            5   Thursday  Pontiac        Urban           Friday   \n",
      "15417   Nov            5   Thursday   Toyota        Rural           Friday   \n",
      "15418   Dec            1     Monday   Toyota        Urban         Thursday   \n",
      "15419   Dec            2  Wednesday   Toyota        Urban         Thursday   \n",
      "\n",
      "      MonthClaimed  WeekOfMonthClaimed     Sex MaritalStatus  ...  \\\n",
      "0              Jan                   1  Female        Single  ...   \n",
      "1              Jan                   4    Male        Single  ...   \n",
      "2              Nov                   2    Male       Married  ...   \n",
      "3              Jul                   1    Male       Married  ...   \n",
      "4              Feb                   2  Female        Single  ...   \n",
      "...            ...                 ...     ...           ...  ...   \n",
      "15415          Nov                   5    Male       Married  ...   \n",
      "15416          Dec                   1    Male       Married  ...   \n",
      "15417          Dec                   1    Male        Single  ...   \n",
      "15418          Dec                   2  Female       Married  ...   \n",
      "15419          Dec                   3    Male        Single  ...   \n",
      "\n",
      "       AgeOfVehicle AgeOfPolicyHolder PoliceReportFiled WitnessPresent  \\\n",
      "0           3 years          26 to 30                No             No   \n",
      "1           6 years          31 to 35               Yes             No   \n",
      "2           7 years          41 to 50                No             No   \n",
      "3       more than 7          51 to 65               Yes             No   \n",
      "4           5 years          31 to 35                No             No   \n",
      "...             ...               ...               ...            ...   \n",
      "15415       6 years          31 to 35                No             No   \n",
      "15416       6 years          31 to 35                No             No   \n",
      "15417       5 years          26 to 30                No             No   \n",
      "15418       2 years          31 to 35                No             No   \n",
      "15419       5 years          26 to 30                No             No   \n",
      "\n",
      "      AgentType  NumberOfSuppliments  AddressChange_Claim  NumberOfCars  Year  \\\n",
      "0      External                 none               1 year        3 to 4  1994   \n",
      "1      External                 none            no change     1 vehicle  1994   \n",
      "2      External                 none            no change     1 vehicle  1994   \n",
      "3      External          more than 5            no change     1 vehicle  1994   \n",
      "4      External                 none            no change     1 vehicle  1994   \n",
      "...         ...                  ...                  ...           ...   ...   \n",
      "15415  External                 none            no change     1 vehicle  1996   \n",
      "15416  External          more than 5            no change        3 to 4  1996   \n",
      "15417  External               1 to 2            no change     1 vehicle  1996   \n",
      "15418  External          more than 5            no change     1 vehicle  1996   \n",
      "15419  External               1 to 2            no change     1 vehicle  1996   \n",
      "\n",
      "       BasePolicy  \n",
      "0       Liability  \n",
      "1       Collision  \n",
      "2       Collision  \n",
      "3       Liability  \n",
      "4       Collision  \n",
      "...           ...  \n",
      "15415   Collision  \n",
      "15416   Liability  \n",
      "15417   Collision  \n",
      "15418  All Perils  \n",
      "15419   Collision  \n",
      "\n",
      "[15420 rows x 33 columns]\n"
     ]
    }
   ],
   "source": [
    "df= pd.read_csv(r\"C:\\Users\\SAYANHA\\Downloads\\fraud_oracle.csv.zip\")\n",
    "print(df)"
   ]
  },
  {
   "cell_type": "code",
   "execution_count": 563,
   "id": "d5eefbc2",
   "metadata": {},
   "outputs": [
    {
     "data": {
      "text/html": [
       "<div>\n",
       "<style scoped>\n",
       "    .dataframe tbody tr th:only-of-type {\n",
       "        vertical-align: middle;\n",
       "    }\n",
       "\n",
       "    .dataframe tbody tr th {\n",
       "        vertical-align: top;\n",
       "    }\n",
       "\n",
       "    .dataframe thead th {\n",
       "        text-align: right;\n",
       "    }\n",
       "</style>\n",
       "<table border=\"1\" class=\"dataframe\">\n",
       "  <thead>\n",
       "    <tr style=\"text-align: right;\">\n",
       "      <th></th>\n",
       "      <th>Month</th>\n",
       "      <th>WeekOfMonth</th>\n",
       "      <th>DayOfWeek</th>\n",
       "      <th>Make</th>\n",
       "      <th>AccidentArea</th>\n",
       "      <th>DayOfWeekClaimed</th>\n",
       "      <th>MonthClaimed</th>\n",
       "      <th>WeekOfMonthClaimed</th>\n",
       "      <th>Sex</th>\n",
       "      <th>MaritalStatus</th>\n",
       "      <th>...</th>\n",
       "      <th>AgeOfVehicle</th>\n",
       "      <th>AgeOfPolicyHolder</th>\n",
       "      <th>PoliceReportFiled</th>\n",
       "      <th>WitnessPresent</th>\n",
       "      <th>AgentType</th>\n",
       "      <th>NumberOfSuppliments</th>\n",
       "      <th>AddressChange_Claim</th>\n",
       "      <th>NumberOfCars</th>\n",
       "      <th>Year</th>\n",
       "      <th>BasePolicy</th>\n",
       "    </tr>\n",
       "  </thead>\n",
       "  <tbody>\n",
       "    <tr>\n",
       "      <th>0</th>\n",
       "      <td>Dec</td>\n",
       "      <td>5</td>\n",
       "      <td>Wednesday</td>\n",
       "      <td>Honda</td>\n",
       "      <td>Urban</td>\n",
       "      <td>Tuesday</td>\n",
       "      <td>Jan</td>\n",
       "      <td>1</td>\n",
       "      <td>Female</td>\n",
       "      <td>Single</td>\n",
       "      <td>...</td>\n",
       "      <td>3 years</td>\n",
       "      <td>26 to 30</td>\n",
       "      <td>No</td>\n",
       "      <td>No</td>\n",
       "      <td>External</td>\n",
       "      <td>none</td>\n",
       "      <td>1 year</td>\n",
       "      <td>3 to 4</td>\n",
       "      <td>1994</td>\n",
       "      <td>Liability</td>\n",
       "    </tr>\n",
       "    <tr>\n",
       "      <th>1</th>\n",
       "      <td>Jan</td>\n",
       "      <td>3</td>\n",
       "      <td>Wednesday</td>\n",
       "      <td>Honda</td>\n",
       "      <td>Urban</td>\n",
       "      <td>Monday</td>\n",
       "      <td>Jan</td>\n",
       "      <td>4</td>\n",
       "      <td>Male</td>\n",
       "      <td>Single</td>\n",
       "      <td>...</td>\n",
       "      <td>6 years</td>\n",
       "      <td>31 to 35</td>\n",
       "      <td>Yes</td>\n",
       "      <td>No</td>\n",
       "      <td>External</td>\n",
       "      <td>none</td>\n",
       "      <td>no change</td>\n",
       "      <td>1 vehicle</td>\n",
       "      <td>1994</td>\n",
       "      <td>Collision</td>\n",
       "    </tr>\n",
       "    <tr>\n",
       "      <th>2</th>\n",
       "      <td>Oct</td>\n",
       "      <td>5</td>\n",
       "      <td>Friday</td>\n",
       "      <td>Honda</td>\n",
       "      <td>Urban</td>\n",
       "      <td>Thursday</td>\n",
       "      <td>Nov</td>\n",
       "      <td>2</td>\n",
       "      <td>Male</td>\n",
       "      <td>Married</td>\n",
       "      <td>...</td>\n",
       "      <td>7 years</td>\n",
       "      <td>41 to 50</td>\n",
       "      <td>No</td>\n",
       "      <td>No</td>\n",
       "      <td>External</td>\n",
       "      <td>none</td>\n",
       "      <td>no change</td>\n",
       "      <td>1 vehicle</td>\n",
       "      <td>1994</td>\n",
       "      <td>Collision</td>\n",
       "    </tr>\n",
       "    <tr>\n",
       "      <th>3</th>\n",
       "      <td>Jun</td>\n",
       "      <td>2</td>\n",
       "      <td>Saturday</td>\n",
       "      <td>Toyota</td>\n",
       "      <td>Rural</td>\n",
       "      <td>Friday</td>\n",
       "      <td>Jul</td>\n",
       "      <td>1</td>\n",
       "      <td>Male</td>\n",
       "      <td>Married</td>\n",
       "      <td>...</td>\n",
       "      <td>more than 7</td>\n",
       "      <td>51 to 65</td>\n",
       "      <td>Yes</td>\n",
       "      <td>No</td>\n",
       "      <td>External</td>\n",
       "      <td>more than 5</td>\n",
       "      <td>no change</td>\n",
       "      <td>1 vehicle</td>\n",
       "      <td>1994</td>\n",
       "      <td>Liability</td>\n",
       "    </tr>\n",
       "    <tr>\n",
       "      <th>4</th>\n",
       "      <td>Jan</td>\n",
       "      <td>5</td>\n",
       "      <td>Monday</td>\n",
       "      <td>Honda</td>\n",
       "      <td>Urban</td>\n",
       "      <td>Tuesday</td>\n",
       "      <td>Feb</td>\n",
       "      <td>2</td>\n",
       "      <td>Female</td>\n",
       "      <td>Single</td>\n",
       "      <td>...</td>\n",
       "      <td>5 years</td>\n",
       "      <td>31 to 35</td>\n",
       "      <td>No</td>\n",
       "      <td>No</td>\n",
       "      <td>External</td>\n",
       "      <td>none</td>\n",
       "      <td>no change</td>\n",
       "      <td>1 vehicle</td>\n",
       "      <td>1994</td>\n",
       "      <td>Collision</td>\n",
       "    </tr>\n",
       "  </tbody>\n",
       "</table>\n",
       "<p>5 rows × 33 columns</p>\n",
       "</div>"
      ],
      "text/plain": [
       "  Month  WeekOfMonth  DayOfWeek    Make AccidentArea DayOfWeekClaimed  \\\n",
       "0   Dec            5  Wednesday   Honda        Urban          Tuesday   \n",
       "1   Jan            3  Wednesday   Honda        Urban           Monday   \n",
       "2   Oct            5     Friday   Honda        Urban         Thursday   \n",
       "3   Jun            2   Saturday  Toyota        Rural           Friday   \n",
       "4   Jan            5     Monday   Honda        Urban          Tuesday   \n",
       "\n",
       "  MonthClaimed  WeekOfMonthClaimed     Sex MaritalStatus  ...  AgeOfVehicle  \\\n",
       "0          Jan                   1  Female        Single  ...       3 years   \n",
       "1          Jan                   4    Male        Single  ...       6 years   \n",
       "2          Nov                   2    Male       Married  ...       7 years   \n",
       "3          Jul                   1    Male       Married  ...   more than 7   \n",
       "4          Feb                   2  Female        Single  ...       5 years   \n",
       "\n",
       "  AgeOfPolicyHolder PoliceReportFiled WitnessPresent AgentType  \\\n",
       "0          26 to 30                No             No  External   \n",
       "1          31 to 35               Yes             No  External   \n",
       "2          41 to 50                No             No  External   \n",
       "3          51 to 65               Yes             No  External   \n",
       "4          31 to 35                No             No  External   \n",
       "\n",
       "   NumberOfSuppliments  AddressChange_Claim  NumberOfCars  Year  BasePolicy  \n",
       "0                 none               1 year        3 to 4  1994   Liability  \n",
       "1                 none            no change     1 vehicle  1994   Collision  \n",
       "2                 none            no change     1 vehicle  1994   Collision  \n",
       "3          more than 5            no change     1 vehicle  1994   Liability  \n",
       "4                 none            no change     1 vehicle  1994   Collision  \n",
       "\n",
       "[5 rows x 33 columns]"
      ]
     },
     "execution_count": 563,
     "metadata": {},
     "output_type": "execute_result"
    }
   ],
   "source": [
    "df.head()"
   ]
  },
  {
   "cell_type": "code",
   "execution_count": 564,
   "id": "540ae5a5",
   "metadata": {},
   "outputs": [
    {
     "data": {
      "text/html": [
       "<div>\n",
       "<style scoped>\n",
       "    .dataframe tbody tr th:only-of-type {\n",
       "        vertical-align: middle;\n",
       "    }\n",
       "\n",
       "    .dataframe tbody tr th {\n",
       "        vertical-align: top;\n",
       "    }\n",
       "\n",
       "    .dataframe thead th {\n",
       "        text-align: right;\n",
       "    }\n",
       "</style>\n",
       "<table border=\"1\" class=\"dataframe\">\n",
       "  <thead>\n",
       "    <tr style=\"text-align: right;\">\n",
       "      <th></th>\n",
       "      <th>WeekOfMonth</th>\n",
       "      <th>WeekOfMonthClaimed</th>\n",
       "      <th>Age</th>\n",
       "      <th>FraudFound_P</th>\n",
       "      <th>PolicyNumber</th>\n",
       "      <th>RepNumber</th>\n",
       "      <th>Deductible</th>\n",
       "      <th>DriverRating</th>\n",
       "      <th>Year</th>\n",
       "    </tr>\n",
       "  </thead>\n",
       "  <tbody>\n",
       "    <tr>\n",
       "      <th>count</th>\n",
       "      <td>15420.000000</td>\n",
       "      <td>15420.000000</td>\n",
       "      <td>15420.000000</td>\n",
       "      <td>15420.000000</td>\n",
       "      <td>15420.000000</td>\n",
       "      <td>15420.000000</td>\n",
       "      <td>15420.000000</td>\n",
       "      <td>15420.000000</td>\n",
       "      <td>15420.000000</td>\n",
       "    </tr>\n",
       "    <tr>\n",
       "      <th>mean</th>\n",
       "      <td>2.788586</td>\n",
       "      <td>2.693969</td>\n",
       "      <td>39.855707</td>\n",
       "      <td>0.059857</td>\n",
       "      <td>7710.500000</td>\n",
       "      <td>8.483268</td>\n",
       "      <td>407.704280</td>\n",
       "      <td>2.487808</td>\n",
       "      <td>1994.866472</td>\n",
       "    </tr>\n",
       "    <tr>\n",
       "      <th>std</th>\n",
       "      <td>1.287585</td>\n",
       "      <td>1.259115</td>\n",
       "      <td>13.492377</td>\n",
       "      <td>0.237230</td>\n",
       "      <td>4451.514911</td>\n",
       "      <td>4.599948</td>\n",
       "      <td>43.950998</td>\n",
       "      <td>1.119453</td>\n",
       "      <td>0.803313</td>\n",
       "    </tr>\n",
       "    <tr>\n",
       "      <th>min</th>\n",
       "      <td>1.000000</td>\n",
       "      <td>1.000000</td>\n",
       "      <td>0.000000</td>\n",
       "      <td>0.000000</td>\n",
       "      <td>1.000000</td>\n",
       "      <td>1.000000</td>\n",
       "      <td>300.000000</td>\n",
       "      <td>1.000000</td>\n",
       "      <td>1994.000000</td>\n",
       "    </tr>\n",
       "    <tr>\n",
       "      <th>25%</th>\n",
       "      <td>2.000000</td>\n",
       "      <td>2.000000</td>\n",
       "      <td>31.000000</td>\n",
       "      <td>0.000000</td>\n",
       "      <td>3855.750000</td>\n",
       "      <td>5.000000</td>\n",
       "      <td>400.000000</td>\n",
       "      <td>1.000000</td>\n",
       "      <td>1994.000000</td>\n",
       "    </tr>\n",
       "    <tr>\n",
       "      <th>50%</th>\n",
       "      <td>3.000000</td>\n",
       "      <td>3.000000</td>\n",
       "      <td>38.000000</td>\n",
       "      <td>0.000000</td>\n",
       "      <td>7710.500000</td>\n",
       "      <td>8.000000</td>\n",
       "      <td>400.000000</td>\n",
       "      <td>2.000000</td>\n",
       "      <td>1995.000000</td>\n",
       "    </tr>\n",
       "    <tr>\n",
       "      <th>75%</th>\n",
       "      <td>4.000000</td>\n",
       "      <td>4.000000</td>\n",
       "      <td>48.000000</td>\n",
       "      <td>0.000000</td>\n",
       "      <td>11565.250000</td>\n",
       "      <td>12.000000</td>\n",
       "      <td>400.000000</td>\n",
       "      <td>3.000000</td>\n",
       "      <td>1996.000000</td>\n",
       "    </tr>\n",
       "    <tr>\n",
       "      <th>max</th>\n",
       "      <td>5.000000</td>\n",
       "      <td>5.000000</td>\n",
       "      <td>80.000000</td>\n",
       "      <td>1.000000</td>\n",
       "      <td>15420.000000</td>\n",
       "      <td>16.000000</td>\n",
       "      <td>700.000000</td>\n",
       "      <td>4.000000</td>\n",
       "      <td>1996.000000</td>\n",
       "    </tr>\n",
       "  </tbody>\n",
       "</table>\n",
       "</div>"
      ],
      "text/plain": [
       "        WeekOfMonth  WeekOfMonthClaimed           Age  FraudFound_P  \\\n",
       "count  15420.000000        15420.000000  15420.000000  15420.000000   \n",
       "mean       2.788586            2.693969     39.855707      0.059857   \n",
       "std        1.287585            1.259115     13.492377      0.237230   \n",
       "min        1.000000            1.000000      0.000000      0.000000   \n",
       "25%        2.000000            2.000000     31.000000      0.000000   \n",
       "50%        3.000000            3.000000     38.000000      0.000000   \n",
       "75%        4.000000            4.000000     48.000000      0.000000   \n",
       "max        5.000000            5.000000     80.000000      1.000000   \n",
       "\n",
       "       PolicyNumber     RepNumber    Deductible  DriverRating          Year  \n",
       "count  15420.000000  15420.000000  15420.000000  15420.000000  15420.000000  \n",
       "mean    7710.500000      8.483268    407.704280      2.487808   1994.866472  \n",
       "std     4451.514911      4.599948     43.950998      1.119453      0.803313  \n",
       "min        1.000000      1.000000    300.000000      1.000000   1994.000000  \n",
       "25%     3855.750000      5.000000    400.000000      1.000000   1994.000000  \n",
       "50%     7710.500000      8.000000    400.000000      2.000000   1995.000000  \n",
       "75%    11565.250000     12.000000    400.000000      3.000000   1996.000000  \n",
       "max    15420.000000     16.000000    700.000000      4.000000   1996.000000  "
      ]
     },
     "execution_count": 564,
     "metadata": {},
     "output_type": "execute_result"
    }
   ],
   "source": [
    "df.describe()"
   ]
  },
  {
   "cell_type": "code",
   "execution_count": 565,
   "id": "b9c04cbc",
   "metadata": {
    "scrolled": true
   },
   "outputs": [
    {
     "data": {
      "text/plain": [
       "Index(['Month', 'WeekOfMonth', 'DayOfWeek', 'Make', 'AccidentArea',\n",
       "       'DayOfWeekClaimed', 'MonthClaimed', 'WeekOfMonthClaimed', 'Sex',\n",
       "       'MaritalStatus', 'Age', 'Fault', 'PolicyType', 'VehicleCategory',\n",
       "       'VehiclePrice', 'FraudFound_P', 'PolicyNumber', 'RepNumber',\n",
       "       'Deductible', 'DriverRating', 'Days_Policy_Accident',\n",
       "       'Days_Policy_Claim', 'PastNumberOfClaims', 'AgeOfVehicle',\n",
       "       'AgeOfPolicyHolder', 'PoliceReportFiled', 'WitnessPresent', 'AgentType',\n",
       "       'NumberOfSuppliments', 'AddressChange_Claim', 'NumberOfCars', 'Year',\n",
       "       'BasePolicy'],\n",
       "      dtype='object')"
      ]
     },
     "execution_count": 565,
     "metadata": {},
     "output_type": "execute_result"
    }
   ],
   "source": [
    "df.columns"
   ]
  },
  {
   "cell_type": "markdown",
   "id": "c7995aca",
   "metadata": {},
   "source": [
    "### Preprocessing of data ###"
   ]
  },
  {
   "cell_type": "code",
   "execution_count": 566,
   "id": "955c76a9",
   "metadata": {},
   "outputs": [],
   "source": [
    "from sklearn import preprocessing"
   ]
  },
  {
   "cell_type": "code",
   "execution_count": 567,
   "id": "795bfb48",
   "metadata": {
    "scrolled": true
   },
   "outputs": [
    {
     "data": {
      "text/plain": [
       "array(['Honda', 'Toyota', 'Ford', 'Mazda', 'Chevrolet', 'Pontiac',\n",
       "       'Accura', 'Dodge', 'Mercury', 'Jaguar', 'Nisson', 'VW', 'Saab',\n",
       "       'Saturn', 'Porche', 'BMW', 'Mecedes', 'Ferrari', 'Lexus'],\n",
       "      dtype=object)"
      ]
     },
     "execution_count": 567,
     "metadata": {},
     "output_type": "execute_result"
    }
   ],
   "source": [
    "df['Make'].unique()"
   ]
  },
  {
   "cell_type": "code",
   "execution_count": 626,
   "id": "87e6db22",
   "metadata": {},
   "outputs": [],
   "source": [
    "df1 = df[df.Age != 0]"
   ]
  },
  {
   "cell_type": "code",
   "execution_count": 627,
   "id": "e19f8b47",
   "metadata": {
    "scrolled": true
   },
   "outputs": [
    {
     "name": "stdout",
     "output_type": "stream",
     "text": [
      "      Month  WeekOfMonth  DayOfWeek     Make AccidentArea DayOfWeekClaimed  \\\n",
      "0       Dec            5  Wednesday    Honda        Urban          Tuesday   \n",
      "1       Jan            3  Wednesday    Honda        Urban           Monday   \n",
      "2       Oct            5     Friday    Honda        Urban         Thursday   \n",
      "3       Jun            2   Saturday   Toyota        Rural           Friday   \n",
      "4       Jan            5     Monday    Honda        Urban          Tuesday   \n",
      "...     ...          ...        ...      ...          ...              ...   \n",
      "15415   Nov            4     Friday   Toyota        Urban          Tuesday   \n",
      "15416   Nov            5   Thursday  Pontiac        Urban           Friday   \n",
      "15417   Nov            5   Thursday   Toyota        Rural           Friday   \n",
      "15418   Dec            1     Monday   Toyota        Urban         Thursday   \n",
      "15419   Dec            2  Wednesday   Toyota        Urban         Thursday   \n",
      "\n",
      "      MonthClaimed  WeekOfMonthClaimed     Sex MaritalStatus  ...  \\\n",
      "0              Jan                   1  Female        Single  ...   \n",
      "1              Jan                   4    Male        Single  ...   \n",
      "2              Nov                   2    Male       Married  ...   \n",
      "3              Jul                   1    Male       Married  ...   \n",
      "4              Feb                   2  Female        Single  ...   \n",
      "...            ...                 ...     ...           ...  ...   \n",
      "15415          Nov                   5    Male       Married  ...   \n",
      "15416          Dec                   1    Male       Married  ...   \n",
      "15417          Dec                   1    Male        Single  ...   \n",
      "15418          Dec                   2  Female       Married  ...   \n",
      "15419          Dec                   3    Male        Single  ...   \n",
      "\n",
      "       AgeOfVehicle AgeOfPolicyHolder PoliceReportFiled WitnessPresent  \\\n",
      "0           3 years          26 to 30                No             No   \n",
      "1           6 years          31 to 35               Yes             No   \n",
      "2           7 years          41 to 50                No             No   \n",
      "3       more than 7          51 to 65               Yes             No   \n",
      "4           5 years          31 to 35                No             No   \n",
      "...             ...               ...               ...            ...   \n",
      "15415       6 years          31 to 35                No             No   \n",
      "15416       6 years          31 to 35                No             No   \n",
      "15417       5 years          26 to 30                No             No   \n",
      "15418       2 years          31 to 35                No             No   \n",
      "15419       5 years          26 to 30                No             No   \n",
      "\n",
      "      AgentType  NumberOfSuppliments  AddressChange_Claim  NumberOfCars  Year  \\\n",
      "0      External                 none               1 year        3 to 4  1994   \n",
      "1      External                 none            no change     1 vehicle  1994   \n",
      "2      External                 none            no change     1 vehicle  1994   \n",
      "3      External          more than 5            no change     1 vehicle  1994   \n",
      "4      External                 none            no change     1 vehicle  1994   \n",
      "...         ...                  ...                  ...           ...   ...   \n",
      "15415  External                 none            no change     1 vehicle  1996   \n",
      "15416  External          more than 5            no change        3 to 4  1996   \n",
      "15417  External               1 to 2            no change     1 vehicle  1996   \n",
      "15418  External          more than 5            no change     1 vehicle  1996   \n",
      "15419  External               1 to 2            no change     1 vehicle  1996   \n",
      "\n",
      "       BasePolicy  \n",
      "0       Liability  \n",
      "1       Collision  \n",
      "2       Collision  \n",
      "3       Liability  \n",
      "4       Collision  \n",
      "...           ...  \n",
      "15415   Collision  \n",
      "15416   Liability  \n",
      "15417   Collision  \n",
      "15418  All Perils  \n",
      "15419   Collision  \n",
      "\n",
      "[15100 rows x 33 columns]\n"
     ]
    }
   ],
   "source": [
    "\n",
    "print (df1) "
   ]
  },
  {
   "cell_type": "markdown",
   "id": "d7928105",
   "metadata": {},
   "source": [
    "### Binning ###"
   ]
  },
  {
   "cell_type": "code",
   "execution_count": 628,
   "id": "2a7d706b",
   "metadata": {},
   "outputs": [
    {
     "name": "stdout",
     "output_type": "stream",
     "text": [
      "      Month  WeekOfMonth  DayOfWeek     Make AccidentArea DayOfWeekClaimed  \\\n",
      "0       Dec            5  Wednesday    Honda        Urban          Tuesday   \n",
      "1       Jan            3  Wednesday    Honda        Urban           Monday   \n",
      "2       Oct            5     Friday    Honda        Urban         Thursday   \n",
      "3       Jun            2   Saturday   Toyota        Rural           Friday   \n",
      "4       Jan            5     Monday    Honda        Urban          Tuesday   \n",
      "...     ...          ...        ...      ...          ...              ...   \n",
      "15415   Nov            4     Friday   Toyota        Urban          Tuesday   \n",
      "15416   Nov            5   Thursday  Pontiac        Urban           Friday   \n",
      "15417   Nov            5   Thursday   Toyota        Rural           Friday   \n",
      "15418   Dec            1     Monday   Toyota        Urban         Thursday   \n",
      "15419   Dec            2  Wednesday   Toyota        Urban         Thursday   \n",
      "\n",
      "      MonthClaimed  WeekOfMonthClaimed     Sex MaritalStatus  ...  \\\n",
      "0              Jan                   1  Female        Single  ...   \n",
      "1              Jan                   4    Male        Single  ...   \n",
      "2              Nov                   2    Male       Married  ...   \n",
      "3              Jul                   1    Male       Married  ...   \n",
      "4              Feb                   2  Female        Single  ...   \n",
      "...            ...                 ...     ...           ...  ...   \n",
      "15415          Nov                   5    Male       Married  ...   \n",
      "15416          Dec                   1    Male       Married  ...   \n",
      "15417          Dec                   1    Male        Single  ...   \n",
      "15418          Dec                   2  Female       Married  ...   \n",
      "15419          Dec                   3    Male        Single  ...   \n",
      "\n",
      "       AgeOfPolicyHolder PoliceReportFiled WitnessPresent AgentType  \\\n",
      "0               26 to 30                No             No  External   \n",
      "1               31 to 35               Yes             No  External   \n",
      "2               41 to 50                No             No  External   \n",
      "3               51 to 65               Yes             No  External   \n",
      "4               31 to 35                No             No  External   \n",
      "...                  ...               ...            ...       ...   \n",
      "15415           31 to 35                No             No  External   \n",
      "15416           31 to 35                No             No  External   \n",
      "15417           26 to 30                No             No  External   \n",
      "15418           31 to 35                No             No  External   \n",
      "15419           26 to 30                No             No  External   \n",
      "\n",
      "      NumberOfSuppliments  AddressChange_Claim  NumberOfCars  Year  \\\n",
      "0                    none               1 year        3 to 4  1994   \n",
      "1                    none            no change     1 vehicle  1994   \n",
      "2                    none            no change     1 vehicle  1994   \n",
      "3             more than 5            no change     1 vehicle  1994   \n",
      "4                    none            no change     1 vehicle  1994   \n",
      "...                   ...                  ...           ...   ...   \n",
      "15415                none            no change     1 vehicle  1996   \n",
      "15416         more than 5            no change        3 to 4  1996   \n",
      "15417              1 to 2            no change     1 vehicle  1996   \n",
      "15418         more than 5            no change     1 vehicle  1996   \n",
      "15419              1 to 2            no change     1 vehicle  1996   \n",
      "\n",
      "       BasePolicy  binned  \n",
      "0       Liability       2  \n",
      "1       Collision       2  \n",
      "2       Collision       3  \n",
      "3       Liability       4  \n",
      "4       Collision       2  \n",
      "...           ...     ...  \n",
      "15415   Collision       2  \n",
      "15416   Liability       2  \n",
      "15417   Collision       2  \n",
      "15418  All Perils       2  \n",
      "15419   Collision       2  \n",
      "\n",
      "[15100 rows x 34 columns]\n"
     ]
    },
    {
     "name": "stderr",
     "output_type": "stream",
     "text": [
      "C:\\Users\\SAYANHA\\AppData\\Local\\Temp\\ipykernel_1116\\211313315.py:3: SettingWithCopyWarning: \n",
      "A value is trying to be set on a copy of a slice from a DataFrame.\n",
      "Try using .loc[row_indexer,col_indexer] = value instead\n",
      "\n",
      "See the caveats in the documentation: https://pandas.pydata.org/pandas-docs/stable/user_guide/indexing.html#returning-a-view-versus-a-copy\n",
      "  df1['binned'] = pd.cut(df1['Age'], bins=bins, labels=labels)\n"
     ]
    }
   ],
   "source": [
    "bins = [0, 20, 40, 60, 90] \n",
    "labels = [1,2,3,4] \n",
    "df1['binned'] = pd.cut(df1['Age'], bins=bins, labels=labels)\n",
    "print (df1)"
   ]
  },
  {
   "cell_type": "code",
   "execution_count": 629,
   "id": "81bf2992",
   "metadata": {
    "scrolled": true
   },
   "outputs": [
    {
     "data": {
      "text/plain": [
       "Index(['Month', 'WeekOfMonth', 'DayOfWeek', 'Make', 'AccidentArea',\n",
       "       'DayOfWeekClaimed', 'MonthClaimed', 'WeekOfMonthClaimed', 'Sex',\n",
       "       'MaritalStatus', 'Fault', 'PolicyType', 'VehicleCategory',\n",
       "       'VehiclePrice', 'FraudFound_P', 'PolicyNumber', 'RepNumber',\n",
       "       'Deductible', 'DriverRating', 'Days_Policy_Accident',\n",
       "       'Days_Policy_Claim', 'PastNumberOfClaims', 'AgeOfVehicle',\n",
       "       'AgeOfPolicyHolder', 'PoliceReportFiled', 'WitnessPresent', 'AgentType',\n",
       "       'NumberOfSuppliments', 'AddressChange_Claim', 'NumberOfCars', 'Year',\n",
       "       'BasePolicy', 'binned'],\n",
       "      dtype='object')"
      ]
     },
     "execution_count": 629,
     "metadata": {},
     "output_type": "execute_result"
    }
   ],
   "source": [
    "df2=df1.drop('Age', axis=1)\n",
    "df2.columns"
   ]
  },
  {
   "cell_type": "markdown",
   "id": "5527089f",
   "metadata": {},
   "source": [
    "### Labelencoding ###"
   ]
  },
  {
   "cell_type": "code",
   "execution_count": 630,
   "id": "5f18f952",
   "metadata": {},
   "outputs": [],
   "source": [
    "from sklearn.preprocessing import LabelEncoder"
   ]
  },
  {
   "cell_type": "code",
   "execution_count": 631,
   "id": "8300fa65",
   "metadata": {},
   "outputs": [],
   "source": [
    "label_encoder = LabelEncoder()"
   ]
  },
  {
   "cell_type": "code",
   "execution_count": 632,
   "id": "88e02d59",
   "metadata": {
    "scrolled": true
   },
   "outputs": [
    {
     "name": "stdout",
     "output_type": "stream",
     "text": [
      "       Month  WeekOfMonth  DayOfWeek  Make  AccidentArea  DayOfWeekClaimed  \\\n",
      "0          2            5          6     6             1                 5   \n",
      "1          4            3          6     6             1                 1   \n",
      "2         10            5          0     6             1                 4   \n",
      "3          6            2          2    17             0                 0   \n",
      "4          4            5          1     6             1                 5   \n",
      "...      ...          ...        ...   ...           ...               ...   \n",
      "15415      9            4          0    17             1                 5   \n",
      "15416      9            5          4    13             1                 0   \n",
      "15417      9            5          4    17             0                 0   \n",
      "15418      2            1          1    17             1                 4   \n",
      "15419      2            2          6    17             1                 4   \n",
      "\n",
      "       MonthClaimed  WeekOfMonthClaimed  Sex  MaritalStatus  ...  \\\n",
      "0                 4                   1    0              2  ...   \n",
      "1                 4                   4    1              2  ...   \n",
      "2                 9                   2    1              1  ...   \n",
      "3                 5                   1    1              1  ...   \n",
      "4                 3                   2    0              2  ...   \n",
      "...             ...                 ...  ...            ...  ...   \n",
      "15415             9                   5    1              1  ...   \n",
      "15416             2                   1    1              1  ...   \n",
      "15417             2                   1    1              2  ...   \n",
      "15418             2                   2    0              1  ...   \n",
      "15419             2                   3    1              2  ...   \n",
      "\n",
      "       AgeOfPolicyHolder  PoliceReportFiled  WitnessPresent  AgentType  \\\n",
      "0                      2                  0               0          0   \n",
      "1                      3                  1               0          0   \n",
      "2                      5                  0               0          0   \n",
      "3                      6                  1               0          0   \n",
      "4                      3                  0               0          0   \n",
      "...                  ...                ...             ...        ...   \n",
      "15415                  3                  0               0          0   \n",
      "15416                  3                  0               0          0   \n",
      "15417                  2                  0               0          0   \n",
      "15418                  3                  0               0          0   \n",
      "15419                  2                  0               0          0   \n",
      "\n",
      "       NumberOfSuppliments  AddressChange_Claim  NumberOfCars  Year  \\\n",
      "0                        3                    0             2  1994   \n",
      "1                        3                    3             0  1994   \n",
      "2                        3                    3             0  1994   \n",
      "3                        2                    3             0  1994   \n",
      "4                        3                    3             0  1994   \n",
      "...                    ...                  ...           ...   ...   \n",
      "15415                    3                    3             0  1996   \n",
      "15416                    2                    3             2  1996   \n",
      "15417                    0                    3             0  1996   \n",
      "15418                    2                    3             0  1996   \n",
      "15419                    0                    3             0  1996   \n",
      "\n",
      "       BasePolicy  binned  \n",
      "0               2       2  \n",
      "1               1       2  \n",
      "2               1       3  \n",
      "3               2       4  \n",
      "4               1       2  \n",
      "...           ...     ...  \n",
      "15415           1       2  \n",
      "15416           2       2  \n",
      "15417           1       2  \n",
      "15418           0       2  \n",
      "15419           1       2  \n",
      "\n",
      "[15100 rows x 33 columns]\n"
     ]
    }
   ],
   "source": [
    "for column in df2.columns:\n",
    "    if df2[column].dtype == 'object':\n",
    "        df2[column] = label_encoder.fit_transform(df2[column]) \n",
    "print(df2) "
   ]
  },
  {
   "cell_type": "markdown",
   "id": "2001940f",
   "metadata": {},
   "source": [
    "### Satndardizing data ###"
   ]
  },
  {
   "cell_type": "code",
   "execution_count": 633,
   "id": "8e730d27",
   "metadata": {},
   "outputs": [],
   "source": [
    "from sklearn.model_selection import train_test_split , cross_val_score, KFold\n",
    "from sklearn.preprocessing import StandardScaler\n",
    "from sklearn.metrics import accuracy_score, precision_score, recall_score, f1_score, roc_auc_score"
   ]
  },
  {
   "cell_type": "code",
   "execution_count": 634,
   "id": "de85e6c5",
   "metadata": {},
   "outputs": [],
   "source": [
    "X = df2.drop('FraudFound_P', axis=1)\n",
    "y = df2['FraudFound_P']"
   ]
  },
  {
   "cell_type": "code",
   "execution_count": 635,
   "id": "b6ccb334",
   "metadata": {},
   "outputs": [],
   "source": [
    "X_train, X_test, y_train, y_test = train_test_split(X, y, test_size=0.2, random_state=42)"
   ]
  },
  {
   "cell_type": "code",
   "execution_count": 636,
   "id": "a5ef55e4",
   "metadata": {},
   "outputs": [],
   "source": [
    "scaler = StandardScaler()\n",
    "X_train_std = scaler.fit_transform(X_train)\n",
    "X_test_std = scaler.transform(X_test)"
   ]
  },
  {
   "cell_type": "markdown",
   "id": "a1fb1775",
   "metadata": {},
   "source": [
    "### Data distribution analysis ###"
   ]
  },
  {
   "cell_type": "code",
   "execution_count": 637,
   "id": "75ff0f94",
   "metadata": {},
   "outputs": [
    {
     "data": {
      "image/png": "[encoded data removed]",
      "text/plain": [
       "<Figure size 640x480 with 1 Axes>"
      ]
     },
     "metadata": {},
     "output_type": "display_data"
    }
   ],
   "source": [
    "import matplotlib.pyplot as plt\n",
    "import seaborn as sns\n",
    "sns.countplot(x=y_train , data=X_train)\n",
    "plt.title('Number of fraud vs non-fraud')\n",
    "plt.show()"
   ]
  },
  {
   "cell_type": "code",
   "execution_count": 580,
   "id": "fda9f0a1",
   "metadata": {},
   "outputs": [
    {
     "name": "stdout",
     "output_type": "stream",
     "text": [
      "Requirement already satisfied: imblearn in c:\\users\\sayanha\\anaconda3\\lib\\site-packages (0.0)\n",
      "Requirement already satisfied: imbalanced-learn in c:\\users\\sayanha\\anaconda3\\lib\\site-packages (from imblearn) (0.11.0)\n",
      "Requirement already satisfied: joblib>=1.1.1 in c:\\users\\sayanha\\anaconda3\\lib\\site-packages (from imbalanced-learn->imblearn) (1.3.1)\n",
      "Requirement already satisfied: numpy>=1.17.3 in c:\\users\\sayanha\\anaconda3\\lib\\site-packages (from imbalanced-learn->imblearn) (1.23.5)\n",
      "Requirement already satisfied: threadpoolctl>=2.0.0 in c:\\users\\sayanha\\anaconda3\\lib\\site-packages (from imbalanced-learn->imblearn) (3.1.0)\n",
      "Requirement already satisfied: scikit-learn>=1.0.2 in c:\\users\\sayanha\\anaconda3\\lib\\site-packages (from imbalanced-learn->imblearn) (1.0.2)\n",
      "Requirement already satisfied: scipy>=1.5.0 in c:\\users\\sayanha\\anaconda3\\lib\\site-packages (from imbalanced-learn->imblearn) (1.9.1)\n",
      "Note: you may need to restart the kernel to use updated packages.\n"
     ]
    }
   ],
   "source": [
    "pip install imblearn"
   ]
  },
  {
   "cell_type": "markdown",
   "id": "2ff04a3d",
   "metadata": {},
   "source": [
    "### SMOTE Technique ###"
   ]
  },
  {
   "cell_type": "code",
   "execution_count": 638,
   "id": "8acd537d",
   "metadata": {},
   "outputs": [],
   "source": [
    "from imblearn.over_sampling import SMOTE"
   ]
  },
  {
   "cell_type": "code",
   "execution_count": 639,
   "id": "79e6e059",
   "metadata": {},
   "outputs": [],
   "source": [
    "smote = SMOTE(sampling_strategy='minority' ,random_state=27)\n",
    "smote_X_train,smote_y_train = smote.fit_resample(X_train_std , y_train)"
   ]
  },
  {
   "cell_type": "code",
   "execution_count": 645,
   "id": "fb3137a0",
   "metadata": {},
   "outputs": [],
   "source": [
    "from sklearn.ensemble import RandomForestClassifier\n",
    "rf_classifier = RandomForestClassifier(random_state=42)\n"
   ]
  },
  {
   "cell_type": "code",
   "execution_count": 651,
   "id": "b1cbd35b",
   "metadata": {},
   "outputs": [],
   "source": [
    "from sklearn.ensemble import GradientBoostingClassifier\n",
    "gb_classifier = GradientBoostingClassifier(random_state=42)\n"
   ]
  },
  {
   "cell_type": "code",
   "execution_count": 652,
   "id": "e4e22a08",
   "metadata": {},
   "outputs": [
    {
     "data": {
      "text/plain": [
       "GradientBoostingClassifier(random_state=42)"
      ]
     },
     "execution_count": 652,
     "metadata": {},
     "output_type": "execute_result"
    }
   ],
   "source": [
    "gb_classifier.fit(smote_X_train, smote_y_train)\n"
   ]
  },
  {
   "cell_type": "code",
   "execution_count": 653,
   "id": "c43b463b",
   "metadata": {},
   "outputs": [
    {
     "name": "stdout",
     "output_type": "stream",
     "text": [
      "F1 Score: 0.0498\n"
     ]
    }
   ],
   "source": [
    "y_pred = gb_classifier.predict(X_test_std)\n",
    "f1 = f1_score(y_test, y_pred)\n",
    "print(f\"F1 Score: {f1:.4f}\")"
   ]
  },
  {
   "cell_type": "markdown",
   "id": "89696d5f",
   "metadata": {},
   "source": [
    "### Random Forrest ###"
   ]
  },
  {
   "cell_type": "code",
   "execution_count": 649,
   "id": "f725e5a9",
   "metadata": {},
   "outputs": [],
   "source": [
    "k_fold = KFold(n_splits=5, shuffle=True, random_state=42)\n",
    "f1_scores = cross_val_score(rf_classifier, smote_X_train ,smote_y_train , cv=k_fold, scoring='f1')"
   ]
  },
  {
   "cell_type": "code",
   "execution_count": 650,
   "id": "ce9e2429",
   "metadata": {},
   "outputs": [
    {
     "name": "stdout",
     "output_type": "stream",
     "text": [
      "Cross-Validation F1 Scores: [0.97592801 0.97313297 0.97658712 0.97410714 0.97586894]\n",
      "Average F1 Score: 0.9751248366739775\n"
     ]
    }
   ],
   "source": [
    "print(\"Cross-Validation F1 Scores:\", f1_scores)\n",
    "print(\"Average F1 Score:\", f1_scores.mean())"
   ]
  },
  {
   "cell_type": "markdown",
   "id": "f6fde481",
   "metadata": {},
   "source": [
    "### XG Boost ###"
   ]
  },
  {
   "cell_type": "code",
   "execution_count": 583,
   "id": "968fef56",
   "metadata": {},
   "outputs": [
    {
     "name": "stdout",
     "output_type": "stream",
     "text": [
      "Requirement already satisfied: xgboost in c:\\users\\sayanha\\anaconda3\\lib\\site-packages (1.7.6)\n",
      "Requirement already satisfied: numpy in c:\\users\\sayanha\\anaconda3\\lib\\site-packages (from xgboost) (1.23.5)\n",
      "Requirement already satisfied: scipy in c:\\users\\sayanha\\anaconda3\\lib\\site-packages (from xgboost) (1.9.1)\n"
     ]
    }
   ],
   "source": [
    "import sys\n",
    "!{sys.executable} -m pip install xgboost"
   ]
  },
  {
   "cell_type": "code",
   "execution_count": 640,
   "id": "e16d91ef",
   "metadata": {},
   "outputs": [],
   "source": [
    "import xgboost as xgb\n"
   ]
  },
  {
   "cell_type": "code",
   "execution_count": 641,
   "id": "cc1f46be",
   "metadata": {},
   "outputs": [],
   "source": [
    "dtrain = xgb.DMatrix(smote_X_train, label=smote_y_train)\n",
    "dtest = xgb.DMatrix(X_test_std)"
   ]
  },
  {
   "cell_type": "code",
   "execution_count": 642,
   "id": "066c5923",
   "metadata": {},
   "outputs": [],
   "source": [
    "xgb_classifier = xgb.XGBClassifier(\n",
    "    objective='binary:logistic',\n",
    "    eval_metric='logloss',\n",
    "    seed=42\n",
    ")"
   ]
  },
  {
   "cell_type": "code",
   "execution_count": 643,
   "id": "068a686f",
   "metadata": {},
   "outputs": [],
   "source": [
    "k_fold = KFold(n_splits=5, shuffle=True, random_state=42)\n",
    "f1_scores = cross_val_score(xgb_classifier, smote_X_train, smote_y_train, cv=k_fold, scoring='f1')"
   ]
  },
  {
   "cell_type": "code",
   "execution_count": 644,
   "id": "dd4f5c94",
   "metadata": {},
   "outputs": [
    {
     "name": "stdout",
     "output_type": "stream",
     "text": [
      "Cross-Validation F1 Scores: [0.97822671 0.97440544 0.97492163 0.9753059  0.97304463]\n",
      "Average F1 Score: 0.9751808608255651\n"
     ]
    }
   ],
   "source": [
    "print(\"Cross-Validation F1 Scores:\", f1_scores)\n",
    "print(\"Average F1 Score:\", f1_scores.mean())"
   ]
  }
 ],
 "metadata": {
  "kernelspec": {
   "display_name": "Python 3 (ipykernel)",
   "language": "python",
   "name": "python3"
  },
  "language_info": {
   "codemirror_mode": {
    "name": "ipython",
    "version": 3
   },
   "file_extension": ".py",
   "mimetype": "text/x-python",
   "name": "python",
   "nbconvert_exporter": "python",
   "pygments_lexer": "ipython3",
   "version": "3.9.13"
  }
 },
 "nbformat": 4,
 "nbformat_minor": 5
}
